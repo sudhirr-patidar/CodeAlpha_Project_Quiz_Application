{
  "nbformat": 4,
  "nbformat_minor": 0,
  "metadata": {
    "colab": {
      "provenance": []
    },
    "kernelspec": {
      "name": "python3",
      "display_name": "Python 3"
    },
    "language_info": {
      "name": "python"
    }
  },
  "cells": [
    {
      "cell_type": "code",
      "execution_count": 1,
      "metadata": {
        "colab": {
          "base_uri": "https://localhost:8080/"
        },
        "id": "bMJj1eQbNGvi",
        "outputId": "197795b5-98ae-4b1f-a393-d97887c9117e"
      },
      "outputs": [
        {
          "output_type": "stream",
          "name": "stdout",
          "text": [
            "Welcome to the Quiz Application!\n",
            "Enter your name: Sudhir\n",
            "Hello, Sudhir!\n",
            "\n",
            "What is the capital of France?\n",
            "a) Paris\n",
            "b) London\n",
            "c) Berlin\n",
            "d) Madrid\n",
            "Your answer (a, b, c, or d): a\n",
            "Correct!\n",
            "\n",
            "Which planet is known as the Red Planet?\n",
            "a) Mars\n",
            "b) Venus\n",
            "c) Jupiter\n",
            "d) Saturn\n",
            "Your answer (a, b, c, or d): b\n",
            "Wrong! The correct answer was: a\n",
            "\n",
            "What is 2 + 2?\n",
            "a) 3\n",
            "b) 4\n",
            "c) 5\n",
            "d) 6\n",
            "Your answer (a, b, c, or d): 4\n",
            "Wrong! The correct answer was: b\n",
            "\n",
            "Quiz complete! Your score: 1/3\n"
          ]
        }
      ],
      "source": [
        "# Define a dictionary to store quiz questions and answers\n",
        "quiz_data = {\n",
        "    \"question1\": {\n",
        "        \"question_text\": \"What is the capital of France?\",\n",
        "        \"options\": [\"a) Paris\", \"b) London\", \"c) Berlin\", \"d) Madrid\"],\n",
        "        \"correct_answer\": \"a\"\n",
        "    },\n",
        "    \"question2\": {\n",
        "        \"question_text\": \"Which planet is known as the Red Planet?\",\n",
        "        \"options\": [\"a) Mars\", \"b) Venus\", \"c) Jupiter\", \"d) Saturn\"],\n",
        "        \"correct_answer\": \"a\"\n",
        "    },\n",
        "    \"question3\": {\n",
        "        \"question_text\": \"What is 2 + 2?\",\n",
        "        \"options\": [\"a) 3\", \"b) 4\", \"c) 5\", \"d) 6\"],\n",
        "        \"correct_answer\": \"b\"\n",
        "    }\n",
        "}\n",
        "\n",
        "# Define a function to display questions and get user answers\n",
        "def display_question(question_data):\n",
        "    print(question_data[\"question_text\"])\n",
        "    for option in question_data[\"options\"]:\n",
        "        print(option)\n",
        "    user_answer = input(\"Your answer (a, b, c, or d): \").lower()\n",
        "    return user_answer\n",
        "\n",
        "# Define a function to run the quiz\n",
        "def run_quiz():\n",
        "    score = 0\n",
        "    for question_key, question_data in quiz_data.items():\n",
        "        user_answer = display_question(question_data)\n",
        "        if user_answer == question_data[\"correct_answer\"]:\n",
        "            print(\"Correct!\\n\")\n",
        "            score += 1\n",
        "        else:\n",
        "            print(f\"Wrong! The correct answer was: {question_data['correct_answer']}\\n\")\n",
        "\n",
        "    print(f\"Quiz complete! Your score: {score}/{len(quiz_data)}\")\n",
        "\n",
        "# Main program\n",
        "if __name__ == \"__main__\":\n",
        "    print(\"Welcome to the Quiz Application!\")\n",
        "    user_name = input(\"Enter your name: \")\n",
        "    print(f\"Hello, {user_name}!\\n\")\n",
        "\n",
        "    run_quiz()\n"
      ]
    },
    {
      "cell_type": "code",
      "source": [
        "\n"
      ],
      "metadata": {
        "id": "ehVUBh-bNH9X"
      },
      "execution_count": 5,
      "outputs": []
    },
    {
      "cell_type": "code",
      "source": [],
      "metadata": {
        "id": "i0UZq6QeRnCG"
      },
      "execution_count": 5,
      "outputs": []
    },
    {
      "cell_type": "code",
      "source": [],
      "metadata": {
        "id": "N1qMm9CXR1Sz"
      },
      "execution_count": null,
      "outputs": []
    }
  ]
}